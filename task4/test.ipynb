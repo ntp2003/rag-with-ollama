{
 "cells": [
  {
   "cell_type": "code",
   "execution_count": 11,
   "metadata": {},
   "outputs": [],
   "source": [
    "import weaviate\n",
    "from weaviate.classes.init import AdditionalConfig, Timeout"
   ]
  },
  {
   "cell_type": "code",
   "execution_count": 12,
   "metadata": {},
   "outputs": [],
   "source": [
    "client = weaviate.connect_to_local(\n",
    "    port=8080,\n",
    "    grpc_port=50051,\n",
    "    additional_config=AdditionalConfig(\n",
    "        timeout=Timeout(init=200, query=3000, insert=120) \n",
    "    ),\n",
    "    skip_init_checks=True\n",
    ")\n"
   ]
  },
  {
   "cell_type": "code",
   "execution_count": 13,
   "metadata": {},
   "outputs": [
    {
     "data": {
      "text/plain": [
       "[{'Category': 'SCIENCE',\n",
       "  'Question': 'This organ removes excess glucose from the blood & stores it as glycogen',\n",
       "  'Answer': 'Liver'},\n",
       " {'Category': 'ANIMALS',\n",
       "  'Question': \"It's the only living mammal in the order Proboseidea\",\n",
       "  'Answer': 'Elephant'},\n",
       " {'Category': 'ANIMALS',\n",
       "  'Question': 'The gavial looks very much like a crocodile except for this bodily feature',\n",
       "  'Answer': 'the nose or snout'},\n",
       " {'Category': 'ANIMALS',\n",
       "  'Question': 'Weighing around a ton, the eland is the largest species of this animal in Africa',\n",
       "  'Answer': 'Antelope'},\n",
       " {'Category': 'ANIMALS',\n",
       "  'Question': 'Heaviest of all poisonous snakes is this North American rattlesnake',\n",
       "  'Answer': 'the diamondback rattler'},\n",
       " {'Category': 'SCIENCE',\n",
       "  'Question': \"2000 news: the Gunnison sage grouse isn't just another northern sage grouse, but a new one of this classification\",\n",
       "  'Answer': 'species'},\n",
       " {'Category': 'SCIENCE',\n",
       "  'Question': 'A metal that is ductile can be pulled into this while cold & under pressure',\n",
       "  'Answer': 'wire'},\n",
       " {'Category': 'SCIENCE',\n",
       "  'Question': 'In 1953 Watson & Crick built a model of the molecular structure of this, the gene-carrying substance',\n",
       "  'Answer': 'DNA'},\n",
       " {'Category': 'SCIENCE',\n",
       "  'Question': 'Changes in the tropospheric layer of this are what gives us weather',\n",
       "  'Answer': 'the atmosphere'},\n",
       " {'Category': 'SCIENCE',\n",
       "  'Question': 'In 70-degree air, a plane traveling at about 1,130 feet per second breaks it',\n",
       "  'Answer': 'Sound barrier'}]"
      ]
     },
     "execution_count": 13,
     "metadata": {},
     "output_type": "execute_result"
    }
   ],
   "source": [
    "import requests\n",
    "\n",
    "file = requests.get('https://raw.githubusercontent.com/weaviate-tutorials/quickstart/main/data/jeopardy_tiny.json')\n",
    "data = file.json()\n",
    "data"
   ]
  },
  {
   "cell_type": "code",
   "execution_count": 14,
   "metadata": {},
   "outputs": [],
   "source": [
    "import weaviate.classes as wvc"
   ]
  },
  {
   "cell_type": "code",
   "execution_count": 15,
   "metadata": {},
   "outputs": [],
   "source": [
    "class_obj = {\n",
    "    \"class\": \"Question\",\n",
    "    \"description\": \"A question\",\n",
    "    \"vectorizer\": \"text2vec-ollama\",\n",
    "    \"moduleConfig\": {\n",
    "      \"text2vec-ollama\": {\n",
    "        \"apiEndpoint\": \"http://ollama:11434\",\n",
    "        \"model\": \"nomic-embed-text\"\n",
    "      },\n",
    "      \"generative-ollama\": {\n",
    "        \"apiEndpoint\": \"http://ollama:11434\",\n",
    "        \"model\": \"phi\"\n",
    "      }\n",
    "    }\n",
    "  }"
   ]
  },
  {
   "cell_type": "code",
   "execution_count": 16,
   "metadata": {},
   "outputs": [],
   "source": [
    "client.collections.delete('Question')\n",
    "questions = client.collections.create_from_dict(class_obj)"
   ]
  },
  {
   "cell_type": "code",
   "execution_count": 17,
   "metadata": {},
   "outputs": [
    {
     "data": {
      "text/plain": [
       "BatchObjectReturn(all_responses=[UUID('5437eab7-be4d-4569-b487-22332b358e41'), UUID('43b44e65-135d-4585-9b0d-d7ba8bcfa9e9'), UUID('2d47afd8-3489-4769-820a-099b1de49499'), UUID('72a9a5a0-63ff-4cd4-9e35-93070654f680'), UUID('ffbdb9a8-a902-4475-a13a-707fc8200b7f'), UUID('eab0a753-7fef-4588-b929-bb509873aff8'), UUID('b3d517a9-597d-4788-8191-622ebadf5264'), UUID('b20c0ea6-fc50-4f22-a9f2-1020366a80fb'), UUID('bfc0d53e-12c8-4e82-a78e-15faf8fecc5b'), UUID('4ebe48db-3612-4e35-9634-b4202da4d6ff')], elapsed_seconds=33.66621398925781, errors={}, uuids={0: UUID('5437eab7-be4d-4569-b487-22332b358e41'), 1: UUID('43b44e65-135d-4585-9b0d-d7ba8bcfa9e9'), 2: UUID('2d47afd8-3489-4769-820a-099b1de49499'), 3: UUID('72a9a5a0-63ff-4cd4-9e35-93070654f680'), 4: UUID('ffbdb9a8-a902-4475-a13a-707fc8200b7f'), 5: UUID('eab0a753-7fef-4588-b929-bb509873aff8'), 6: UUID('b3d517a9-597d-4788-8191-622ebadf5264'), 7: UUID('b20c0ea6-fc50-4f22-a9f2-1020366a80fb'), 8: UUID('bfc0d53e-12c8-4e82-a78e-15faf8fecc5b'), 9: UUID('4ebe48db-3612-4e35-9634-b4202da4d6ff')}, has_errors=False)"
      ]
     },
     "execution_count": 17,
     "metadata": {},
     "output_type": "execute_result"
    }
   ],
   "source": [
    "questions = client.collections.get(\"Question\")\n",
    "questions.data.insert_many(data)"
   ]
  },
  {
   "cell_type": "code",
   "execution_count": 18,
   "metadata": {},
   "outputs": [
    {
     "name": "stdout",
     "output_type": "stream",
     "text": [
      "{'answer': 'Liver', 'question': 'This organ removes excess glucose from the blood & stores it as glycogen', 'category': 'SCIENCE'}\n",
      "{'answer': 'the atmosphere', 'question': 'Changes in the tropospheric layer of this are what gives us weather', 'category': 'SCIENCE'}\n"
     ]
    }
   ],
   "source": [
    "response = questions.query.near_text(\n",
    "        query=\"biology\",\n",
    "        limit=2\n",
    "    )\n",
    "\n",
    "print(response.objects[0].properties)\n",
    "print(response.objects[1].properties)"
   ]
  },
  {
   "cell_type": "code",
   "execution_count": 19,
   "metadata": {},
   "outputs": [
    {
     "name": "stdout",
     "output_type": "stream",
     "text": [
      "{'answer': 'the nose or snout', 'question': 'The gavial looks very much like a crocodile except for this bodily feature', 'category': 'ANIMALS'}\n"
     ]
    }
   ],
   "source": [
    "response = questions.query.near_text(\n",
    "        query=\"biology\",\n",
    "        limit=2,\n",
    "        filters=wvc.query.Filter.by_property(\"category\").equal(\"ANIMALS\")\n",
    ")\n",
    "\n",
    "print(response.objects[0].properties)"
   ]
  },
  {
   "cell_type": "code",
   "execution_count": 20,
   "metadata": {},
   "outputs": [
    {
     "name": "stdout",
     "output_type": "stream",
     "text": [
      " Sure, I can do that! Your liver is a very important organ in your body. It helps your body in many ways. One of its jobs is to filter out things from your blood, like toxins and other harmful substances. Another job is to make sure you have enough energy by storing fat for later use. The liver also helps your body absorb certain nutrients that you get from food. So as you can see, the liver plays a very important role in keeping your body healthy!\n",
      "\n"
     ]
    }
   ],
   "source": [
    "response = questions.generate.near_text(\n",
    "        query=\"biology\",\n",
    "        limit=2,\n",
    "        single_prompt=\"Explain {answer} as you might to a five-year-old.\"\n",
    "    )\n",
    "\n",
    "print(response.objects[0].generated)"
   ]
  },
  {
   "cell_type": "code",
   "execution_count": 21,
   "metadata": {},
   "outputs": [
    {
     "name": "stdout",
     "output_type": "stream",
     "text": [
      " 🍎🍌🥕 Liver is an amazing organ that helps regulate blood sugar levels by storing excess glucose as glycogen! 🌤️🔄 Did you know changes in the troposphere's layers can influence our daily weather patterns? #LiverLove #ScienceFacts 🧪🔬\n",
      "\n"
     ]
    }
   ],
   "source": [
    "response = questions.generate.near_text(\n",
    "        query=\"biology\",\n",
    "        limit=2,\n",
    "        grouped_task=\"Write a tweet with emojis about these facts.\"\n",
    ")\n",
    "\n",
    "print(response.generated)"
   ]
  }
 ],
 "metadata": {
  "kernelspec": {
   "display_name": "Python 3",
   "language": "python",
   "name": "python3"
  },
  "language_info": {
   "codemirror_mode": {
    "name": "ipython",
    "version": 3
   },
   "file_extension": ".py",
   "mimetype": "text/x-python",
   "name": "python",
   "nbconvert_exporter": "python",
   "pygments_lexer": "ipython3",
   "version": "3.10.11"
  }
 },
 "nbformat": 4,
 "nbformat_minor": 2
}
